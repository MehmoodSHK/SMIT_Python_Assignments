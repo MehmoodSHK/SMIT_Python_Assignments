{
  "nbformat": 4,
  "nbformat_minor": 0,
  "metadata": {
    "colab": {
      "provenance": []
    },
    "kernelspec": {
      "name": "python3",
      "display_name": "Python 3"
    },
    "language_info": {
      "name": "python"
    }
  },
  "cells": [
    {
      "cell_type": "code",
      "execution_count": 4,
      "metadata": {
        "id": "skNfnQLlVNg2"
      },
      "outputs": [],
      "source": [
        "class BankAccount:\n",
        "    def __init__(self, account_number, account_holder):\n",
        "        self.account_number = account_number\n",
        "        self.account_holder = account_holder\n",
        "        self.balance = 0.0\n",
        "        self.transactions = []\n",
        "\n",
        "    def deposit(self, amount):\n",
        "        if amount > 0:\n",
        "            self.balance += amount\n",
        "            self.transactions.append(f\"Deposited: ${amount}\")\n",
        "\n",
        "    def withdraw(self, amount):\n",
        "        if 0 < amount <= self.balance:\n",
        "            self.balance -= amount\n",
        "            self.transactions.append(f\"Withdrawn: ${amount}\")\n",
        "\n",
        "    def check_balance(self):\n",
        "        return self.balance\n",
        "\n",
        "    def print_statement(self):\n",
        "        print(f\"Statement for {self.account_holder} ({self.account_number}):\")\n",
        "        for t in self.transactions:\n",
        "            print(t)\n",
        "\n"
      ]
    },
    {
      "cell_type": "code",
      "source": [
        "class Bank:\n",
        "    def __init__(self):\n",
        "        self.accounts = {}\n",
        "\n",
        "    def open_account(self, account_holder):\n",
        "        account_number = len(self.accounts) + 1\n",
        "        self.accounts[account_number] = BankAccount(account_number, account_holder)\n",
        "        print(f\"Account created: {account_number}\")\n",
        "        return account_number\n",
        "\n",
        "    def get_account(self, account_number):\n",
        "        return self.accounts.get(account_number)\n",
        "\n",
        "    def transfer(self, sender_number, receiver_number, amount):\n",
        "        sender = self.get_account(sender_number)\n",
        "        receiver = self.get_account(receiver_number)\n",
        "        if sender and receiver and sender.balance >= amount:\n",
        "            sender.withdraw(amount)\n",
        "            receiver.deposit(amount)\n",
        "            print(f\"Transferred ${amount} from {sender_number} to {receiver_number}\")\n",
        "\n",
        "    def admin_check_total_deposit(self):\n",
        "        return sum(account.balance for account in self.accounts.values())\n",
        "\n",
        "    def admin_check_total_accounts(self):\n",
        "        return len(self.accounts)\n"
      ],
      "metadata": {
        "id": "M0SS3H5aWS5_"
      },
      "execution_count": 5,
      "outputs": []
    },
    {
      "cell_type": "code",
      "source": [
        "def main_menu():\n",
        "    bank = Bank()\n",
        "\n",
        "    while True:\n",
        "        print(\"\\n1. Open Account\\n2. Deposit\\n3. Withdraw\\n4. Check Balance\\n5. Transfer\\n6. Statement\\n7. Total Deposits\\n8. Total Accounts\\n9. Exit\")\n",
        "        choice = input(\"Choice: \")\n",
        "\n",
        "        if choice == \"1\":\n",
        "            bank.open_account(input(\"Account Holder: \"))\n",
        "        elif choice == \"2\":\n",
        "            acc = bank.get_account(int(input(\"Account Number: \")))\n",
        "            if acc:\n",
        "                acc.deposit(float(input(\"Amount: \")))\n",
        "        elif choice == \"3\":\n",
        "            acc = bank.get_account(int(input(\"Account Number: \")))\n",
        "            if acc:\n",
        "                acc.withdraw(float(input(\"Amount: \")))\n",
        "        elif choice == \"4\":\n",
        "            acc = bank.get_account(int(input(\"Account Number: \")))\n",
        "            if acc:\n",
        "                print(f\"Balance: ${acc.check_balance()}\")\n",
        "        elif choice == \"5\":\n",
        "            bank.transfer(int(input(\"Sender: \")), int(input(\"Receiver: \")), float(input(\"Amount: \")))\n",
        "        elif choice == \"6\":\n",
        "            acc = bank.get_account(int(input(\"Account Number: \")))\n",
        "            if acc:\n",
        "                acc.print_statement()\n",
        "        elif choice == \"7\":\n",
        "            print(f\"Total Deposits: ${bank.admin_check_total_deposit()}\")\n",
        "        elif choice == \"8\":\n",
        "            print(f\"Total Accounts: {bank.admin_check_total_accounts()}\")\n",
        "        elif choice == \"9\":\n",
        "            break\n",
        "\n",
        "if __name__ == \"__main__\":\n",
        "    main_menu()\n"
      ],
      "metadata": {
        "id": "rsh9Roa6WYcr"
      },
      "execution_count": null,
      "outputs": []
    }
  ]
}