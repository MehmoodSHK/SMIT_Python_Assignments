{
  "nbformat": 4,
  "nbformat_minor": 0,
  "metadata": {
    "colab": {
      "provenance": []
    },
    "kernelspec": {
      "name": "python3",
      "display_name": "Python 3"
    },
    "language_info": {
      "name": "python"
    }
  },
  "cells": [
    {
      "cell_type": "code",
      "execution_count": 1,
      "metadata": {
        "colab": {
          "base_uri": "https://localhost:8080/"
        },
        "id": "GFzttWkcWHkH",
        "outputId": "30888170-5b05-498b-9533-78780bf1834d"
      },
      "outputs": [
        {
          "output_type": "stream",
          "name": "stdout",
          "text": [
            "Enter account holder's name: mehmood\n",
            "Account for mehmood created with balance: 0.0\n"
          ]
        }
      ],
      "source": [
        "def create_account(name):\n",
        "    return {\n",
        "        \"name\": name,\n",
        "        \"balance\": 0.0,\n",
        "        \"transactions\": []\n",
        "    }\n",
        "\n",
        "\n",
        "if __name__ == \"__main__\":\n",
        "    user_name = input(\"Enter account holder's name: \")\n",
        "    account = create_account(user_name)\n",
        "    print(f\"Account for {account['name']} created with balance: {account['balance']}\")\n"
      ]
    },
    {
      "cell_type": "code",
      "source": [
        "\n",
        "def create_account(name):\n",
        "    return {\"name\": name, \"balance\": 0.0, \"transactions\": []}\n",
        "\n",
        "def deposit(account, amount):\n",
        "    if amount > 0:\n",
        "        account[\"balance\"] += amount\n",
        "        account[\"transactions\"].append(f\"Deposited {amount}\")\n",
        "\n",
        "        with open(\"transactions.txt\", \"a\") as file:\n",
        "            file.write(f\"{account['name']} - Deposited {amount}\\n\")\n",
        "\n",
        "        print(f\"Deposited {amount}. New balance: {account['balance']}\")\n",
        "    else:\n",
        "        print(\"Deposit amount must be positive.\")\n",
        "\n",
        "\n",
        "if __name__ == \"__main__\":\n",
        "    account = create_account(input(\"Enter account holder's name: \"))\n",
        "    deposit(account, float(input(\"Enter deposit amount: \")))\n"
      ],
      "metadata": {
        "colab": {
          "base_uri": "https://localhost:8080/"
        },
        "id": "X4vseVFTWot4",
        "outputId": "dc9f82c1-d559-4d3b-9781-72bcf1ae0caf"
      },
      "execution_count": 2,
      "outputs": [
        {
          "output_type": "stream",
          "name": "stdout",
          "text": [
            "Enter account holder's name: mehmood\n",
            "Enter deposit amount: 100\n",
            "Deposited 100.0. New balance: 100.0\n"
          ]
        }
      ]
    },
    {
      "cell_type": "code",
      "source": [
        "\n",
        "def create_account(name):\n",
        "    return {\"name\": name, \"balance\": 0.0, \"transactions\": []}\n",
        "\n",
        "def deposit(account, amount):\n",
        "    if amount > 0:\n",
        "        account[\"balance\"] += amount\n",
        "        account[\"transactions\"].append(f\"Deposited {amount}\")\n",
        "        with open(\"transactions.txt\", \"a\") as file:\n",
        "            file.write(f\"{account['name']} - Deposited {amount}\\n\")\n",
        "        print(f\"Deposited {amount}. New balance: {account['balance']}\")\n",
        "\n",
        "\n",
        "def withdraw(account, amount):\n",
        "    if amount > 0 and amount <= account[\"balance\"]:\n",
        "        account[\"balance\"] -= amount\n",
        "        account[\"transactions\"].append(f\"Withdrew {amount}\")\n",
        "        with open(\"transactions.txt\", \"a\") as file:\n",
        "            file.write(f\"{account['name']} - Withdrew {amount}\\n\")\n",
        "        print(f\"Withdrew {amount}. New balance: {account['balance']}\")\n",
        "    else:\n",
        "        print(\"Insufficient funds or invalid withdrawal amount.\")\n",
        "\n",
        "if __name__ == \"__main__\":\n",
        "    account = create_account(input(\"Enter account holder's name: \"))\n",
        "    deposit(account, float(input(\"Enter deposit amount: \")))\n",
        "    withdraw(account, float(input(\"Enter withdrawal amount: \")))\n"
      ],
      "metadata": {
        "colab": {
          "base_uri": "https://localhost:8080/"
        },
        "id": "whS9TULvW_D_",
        "outputId": "62f5f6b5-d549-4a75-9437-da9856aabb19"
      },
      "execution_count": 3,
      "outputs": [
        {
          "output_type": "stream",
          "name": "stdout",
          "text": [
            "Enter account holder's name: mehmood\n",
            "Enter deposit amount: 300\n",
            "Deposited 300.0. New balance: 300.0\n",
            "Enter withdrawal amount: 150\n",
            "Withdrew 150.0. New balance: 150.0\n"
          ]
        }
      ]
    },
    {
      "cell_type": "code",
      "source": [
        "\n",
        "def create_account(name):\n",
        "    return {\"name\": name, \"balance\": 0.0, \"transactions\": []}\n",
        "\n",
        "\n",
        "def deposit(account, amount):\n",
        "    if amount > 0:\n",
        "        account[\"balance\"] += amount\n",
        "        account[\"transactions\"].append(f\"Deposited {amount}\")\n",
        "        with open(\"transactions.txt\", \"a\") as file:\n",
        "            file.write(f\"{account['name']} - Deposited {amount}\\n\")\n",
        "        print(f\"Deposited {amount}. New balance: {account['balance']}\")\n",
        "\n",
        "\n",
        "def withdraw(account, amount):\n",
        "    if amount > 0 and amount <= account[\"balance\"]:\n",
        "        account[\"balance\"] -= amount\n",
        "        account[\"transactions\"].append(f\"Withdrew {amount}\")\n",
        "        with open(\"transactions.txt\", \"a\") as file:\n",
        "            file.write(f\"{account['name']} - Withdrew {amount}\\n\")\n",
        "        print(f\"Withdrew {amount}. New balance: {account['balance']}\")\n",
        "    else:\n",
        "        print(\"Insufficient funds or invalid withdrawal amount.\")\n",
        "\n",
        "\n",
        "def check_balance(account):\n",
        "    print(account[\"balance\"])\n",
        "\n",
        "\n",
        "if __name__ == \"__main__\":\n",
        "    account = create_account(input(\"Enter account holder's name: \"))\n",
        "    deposit(account, float(input(\"Enter deposit amount: \")))\n",
        "    withdraw(account, float(input(\"Enter withdrawal amount: \")))\n",
        "    check_balance(account)\n"
      ],
      "metadata": {
        "colab": {
          "base_uri": "https://localhost:8080/"
        },
        "id": "yZz0mAlDXVie",
        "outputId": "d7882ed0-5dbf-4a71-bfd7-b66718a61fd6"
      },
      "execution_count": 5,
      "outputs": [
        {
          "output_type": "stream",
          "name": "stdout",
          "text": [
            "Enter account holder's name: mehmood\n",
            "Enter deposit amount: 200\n",
            "Deposited 200.0. New balance: 200.0\n",
            "Enter withdrawal amount: 50\n",
            "Withdrew 50.0. New balance: 150.0\n",
            "150.0\n"
          ]
        }
      ]
    },
    {
      "cell_type": "code",
      "source": [
        "\n",
        "def create_account(name):\n",
        "    return {\"name\": name, \"balance\": 0.0, \"transactions\": []}\n",
        "\n",
        "\n",
        "def deposit(account, amount):\n",
        "    if amount > 0:\n",
        "        account[\"balance\"] += amount\n",
        "        account[\"transactions\"].append(f\"Deposited {amount}\")\n",
        "        with open(\"transactions.txt\", \"a\") as file:\n",
        "            file.write(f\"{account['name']} - Deposited {amount}\\n\")\n",
        "        print(f\"Deposited {amount}. New balance: {account['balance']}\")\n",
        "\n",
        "\n",
        "def withdraw(account, amount):\n",
        "    if 0 < amount <= account[\"balance\"]:\n",
        "        account[\"balance\"] -= amount\n",
        "        account[\"transactions\"].append(f\"Withdrew {amount}\")\n",
        "        with open(\"transactions.txt\", \"a\") as file:\n",
        "            file.write(f\"{account['name']} - Withdrew {amount}\\n\")\n",
        "        print(f\"Withdrew {amount}. New balance: {account['balance']}\")\n",
        "    else:\n",
        "        print(\"Insufficient funds or invalid withdrawal amount.\")\n",
        "\n",
        "\n",
        "def check_balance(account):\n",
        "    print(account[\"balance\"])\n",
        "\n",
        "\n",
        "def print_statement(account):\n",
        "    print(f\"\\n{account['name']}'s Transactions:\")\n",
        "    for t in account[\"transactions\"]:\n",
        "        print(f\"- {t}\")\n",
        "    print(f\"Final balance: {account['balance']}\")\n",
        "\n",
        "\n",
        "if __name__ == \"__main__\":\n",
        "    account = create_account(input(\"Enter account holder's name: \"))\n",
        "    deposit(account, float(input(\"Enter deposit amount: \")))\n",
        "    withdraw(account, float(input(\"Enter withdrawal amount: \")))\n",
        "    check_balance(account)\n",
        "    print_statement(account)\n"
      ],
      "metadata": {
        "colab": {
          "base_uri": "https://localhost:8080/"
        },
        "id": "j5Z_sxgHXbsX",
        "outputId": "4ac99a7a-9249-4324-d03e-5da66c46b450"
      },
      "execution_count": 6,
      "outputs": [
        {
          "output_type": "stream",
          "name": "stdout",
          "text": [
            "Enter account holder's name: mehmood\n",
            "Enter deposit amount: 500\n",
            "Deposited 500.0. New balance: 500.0\n",
            "Enter withdrawal amount: 250\n",
            "Withdrew 250.0. New balance: 250.0\n",
            "250.0\n",
            "\n",
            "mehmood's Transactions:\n",
            "- Deposited 500.0\n",
            "- Withdrew 250.0\n",
            "Final balance: 250.0\n"
          ]
        }
      ]
    }
  ]
}